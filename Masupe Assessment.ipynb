{
 "cells": [
  {
   "cell_type": "markdown",
   "id": "fcdf2fd1",
   "metadata": {},
   "source": [
    "## ENVIRONMENT SET-UP"
   ]
  },
  {
   "cell_type": "code",
   "execution_count": 146,
   "id": "a5454812",
   "metadata": {},
   "outputs": [],
   "source": [
    "# importing of necessary libraries and packages\n",
    "\n",
    "import numpy as np\n",
    "import pandas as pd\n",
    "\n",
    "# Visualisation\n",
    "import seaborn as sns\n",
    "import matplotlib.pyplot as plt\n",
    "\n",
    "# Feature Engineering, Data Splitting, Machine Learning, Metrics\n",
    "from sklearn.preprocessing import OneHotEncoder, StandardScaler\n",
    "\n",
    "from sklearn.model_selection import train_test_split\n",
    "from sklearn.model_selection import GridSearchCV\n",
    "from sklearn.model_selection import RepeatedStratifiedKFold\n",
    "\n",
    "from sklearn.feature_selection import SelectKBest, chi2, f_classif, mutual_info_classif # feature selection\n",
    "\n",
    "# ROC and AUC evaluation and visualisation\n",
    "from sklearn.metrics import accuracy_score, roc_auc_score, roc_curve, auc\n",
    "from sklearn.linear_model import LogisticRegression\n",
    "\n",
    "# For Filtering the warnings\n",
    "import warnings\n",
    "warnings.filterwarnings('ignore')"
   ]
  },
  {
   "cell_type": "markdown",
   "id": "9b82597b",
   "metadata": {},
   "source": [
    "## Exploratory Data Analysis and Data Pre-processing"
   ]
  },
  {
   "cell_type": "markdown",
   "id": "c311c35f",
   "metadata": {},
   "source": [
    "EDA (Exploratory Data Analysis) and Data Pre-processing are crucial steps in the data science process, but they serve different purposes and are applied at different stages.\n",
    "\n",
    "EDA involves exploring and investigating the data to understand its characteristics, identify patterns, discover anomalies, and formulate hypotheses. This initial step is about getting to know our data intimately before we start any serious modeling or analysis. \n",
    "\n",
    "Data Pre-processing is the stage where we prepare the data for modeling or analysis. It typically happens after EDA and before feature engineering and model building. Typical steps of Data Pre-processing includes:\n",
    "\n",
    "* Cleaning: Handling missing values (imputation or removal), removing duplicates, correcting inconsistencies, and dealing with outliers.\n",
    "* Transformation: Scaling numerical features (normalization or standardization), encoding categorical variables (one-hot encoding or label encoding), and converting data types.\n",
    "* Reduction: Reducing the dimensionality of the data (feature selection or dimensionality reduction techniques like PCA).\n",
    "\n",
    "Essentially, EDA and Data Pre-processing are primarily concerned with understanding and preparing data for analysis or modeling and this is what we will start with when initially loading the dataset."
   ]
  },
  {
   "cell_type": "code",
   "execution_count": 202,
   "id": "e478101c",
   "metadata": {},
   "outputs": [
    {
     "name": "stdout",
     "output_type": "stream",
     "text": [
      "The focus is an insurance dataframe that contains 7160 rows and 14 columns.\n"
     ]
    }
   ],
   "source": [
    "# loading the data and the variable description using the link of the dataset on github\n",
    "url_data = (r\"https://raw.githubusercontent.com/chrisbw/Hollard-Data-Science/refs/heads/main/data.csv\")\n",
    "url_desc = (r\"https://raw.githubusercontent.com/chrisbw/Hollard-Data-Science/refs/heads/main/VariableDescription.csv\")\n",
    "\n",
    "# reading of data using pandas read_csv function \n",
    "df = pd.read_csv(url_data)\n",
    "data_desc = pd.read_csv(url_desc)\n",
    "\n",
    "# quick glance of the dataset shape\n",
    "num_rows, num_columns = df.shape\n",
    "print(f\"The focus is an insurance dataframe that contains {num_rows} rows and {num_columns} columns.\")"
   ]
  },
  {
   "cell_type": "markdown",
   "id": "4ef3d30a",
   "metadata": {},
   "source": [
    "### The dataframe variable description is as follows:\n",
    "\n",
    "\n",
    "**Customer Id:** Identification number for the Policy holder\n",
    "\n",
    "**YearOfObservation:** Year of observation for the insured policy\n",
    "\n",
    "**Insured_Period:** Duration of insurance policy in Olusola Insurance. (Ex: Full year insurance, Policy Duration = 1; 6 months = 0.5)\n",
    "\n",
    "**Residential:** is the building a residential building or not\n",
    "\n",
    "**Building_Painted:** Is the building painted or not (N-Painted, V-Not Painted)\n",
    "\n",
    "**Building_Fenced:** Is the building fence or not (N-Fenced, V-Not Fenced)\n",
    "\n",
    "**Garden:** building has garden or not (V-has garden; O-no garden)\n",
    "\n",
    "**Settlement:** Area where the building is located (R-rural area; U-urban area)\n",
    "\n",
    "**Building Dimension:** Size of the insured building in meters squared\n",
    "\n",
    "**Building_Type:** The type of building (Type 1, 2, 3, 4)\n",
    "\n",
    "**Date_of_Occupancy:** Date building was first occupied\n",
    "\n",
    "**NumberOfWindows:** Number of windows in the building\n",
    "\n",
    "**Geo Code:** Geographical Code of the Insured building\n",
    "\n",
    "**Claim:** Target variable. (0: no claim, 1: at least one claim over insured period)"
   ]
  },
  {
   "cell_type": "code",
   "execution_count": 203,
   "id": "20aef112",
   "metadata": {},
   "outputs": [
    {
     "name": "stdout",
     "output_type": "stream",
     "text": [
      "The first 10 rows of our dataset can provide a quick visual overview of the type of variables each attribute contains \n",
      "as indicated in the variable description above. These could be numerical, categorical, ordinal, etc\n",
      "\n"
     ]
    },
    {
     "data": {
      "text/html": [
       "<div>\n",
       "<style scoped>\n",
       "    .dataframe tbody tr th:only-of-type {\n",
       "        vertical-align: middle;\n",
       "    }\n",
       "\n",
       "    .dataframe tbody tr th {\n",
       "        vertical-align: top;\n",
       "    }\n",
       "\n",
       "    .dataframe thead th {\n",
       "        text-align: right;\n",
       "    }\n",
       "</style>\n",
       "<table border=\"1\" class=\"dataframe\">\n",
       "  <thead>\n",
       "    <tr style=\"text-align: right;\">\n",
       "      <th></th>\n",
       "      <th>0</th>\n",
       "      <th>1</th>\n",
       "      <th>2</th>\n",
       "      <th>3</th>\n",
       "      <th>4</th>\n",
       "      <th>5</th>\n",
       "      <th>6</th>\n",
       "      <th>7</th>\n",
       "      <th>8</th>\n",
       "      <th>9</th>\n",
       "    </tr>\n",
       "  </thead>\n",
       "  <tbody>\n",
       "    <tr>\n",
       "      <th>Customer Id</th>\n",
       "      <td>H14663</td>\n",
       "      <td>H2037</td>\n",
       "      <td>H3802</td>\n",
       "      <td>H3834</td>\n",
       "      <td>H5053</td>\n",
       "      <td>H4977</td>\n",
       "      <td>H7390</td>\n",
       "      <td>H14488</td>\n",
       "      <td>H19355</td>\n",
       "      <td>H18601</td>\n",
       "    </tr>\n",
       "    <tr>\n",
       "      <th>YearOfObservation</th>\n",
       "      <td>2013</td>\n",
       "      <td>2015</td>\n",
       "      <td>2014</td>\n",
       "      <td>2013</td>\n",
       "      <td>2014</td>\n",
       "      <td>2012</td>\n",
       "      <td>2012</td>\n",
       "      <td>2015</td>\n",
       "      <td>2014</td>\n",
       "      <td>2015</td>\n",
       "    </tr>\n",
       "    <tr>\n",
       "      <th>Insured_Period</th>\n",
       "      <td>1.0</td>\n",
       "      <td>1.0</td>\n",
       "      <td>1.0</td>\n",
       "      <td>1.0</td>\n",
       "      <td>1.0</td>\n",
       "      <td>1.0</td>\n",
       "      <td>1.0</td>\n",
       "      <td>1.0</td>\n",
       "      <td>1.0</td>\n",
       "      <td>1.0</td>\n",
       "    </tr>\n",
       "    <tr>\n",
       "      <th>Residential</th>\n",
       "      <td>0</td>\n",
       "      <td>0</td>\n",
       "      <td>0</td>\n",
       "      <td>0</td>\n",
       "      <td>0</td>\n",
       "      <td>0</td>\n",
       "      <td>0</td>\n",
       "      <td>0</td>\n",
       "      <td>0</td>\n",
       "      <td>0</td>\n",
       "    </tr>\n",
       "    <tr>\n",
       "      <th>Building_Painted</th>\n",
       "      <td>N</td>\n",
       "      <td>V</td>\n",
       "      <td>N</td>\n",
       "      <td>V</td>\n",
       "      <td>V</td>\n",
       "      <td>V</td>\n",
       "      <td>N</td>\n",
       "      <td>N</td>\n",
       "      <td>V</td>\n",
       "      <td>V</td>\n",
       "    </tr>\n",
       "    <tr>\n",
       "      <th>Building_Fenced</th>\n",
       "      <td>V</td>\n",
       "      <td>N</td>\n",
       "      <td>V</td>\n",
       "      <td>V</td>\n",
       "      <td>N</td>\n",
       "      <td>N</td>\n",
       "      <td>V</td>\n",
       "      <td>V</td>\n",
       "      <td>N</td>\n",
       "      <td>N</td>\n",
       "    </tr>\n",
       "    <tr>\n",
       "      <th>Garden</th>\n",
       "      <td>V</td>\n",
       "      <td>O</td>\n",
       "      <td>V</td>\n",
       "      <td>V</td>\n",
       "      <td>O</td>\n",
       "      <td>O</td>\n",
       "      <td>V</td>\n",
       "      <td>V</td>\n",
       "      <td>O</td>\n",
       "      <td>O</td>\n",
       "    </tr>\n",
       "    <tr>\n",
       "      <th>Settlement</th>\n",
       "      <td>U</td>\n",
       "      <td>R</td>\n",
       "      <td>U</td>\n",
       "      <td>U</td>\n",
       "      <td>R</td>\n",
       "      <td>R</td>\n",
       "      <td>U</td>\n",
       "      <td>U</td>\n",
       "      <td>R</td>\n",
       "      <td>R</td>\n",
       "    </tr>\n",
       "    <tr>\n",
       "      <th>Building Dimension</th>\n",
       "      <td>290.0</td>\n",
       "      <td>490.0</td>\n",
       "      <td>595.0</td>\n",
       "      <td>2840.0</td>\n",
       "      <td>680.0</td>\n",
       "      <td>535.0</td>\n",
       "      <td>2830.0</td>\n",
       "      <td>4952.0</td>\n",
       "      <td>2735.0</td>\n",
       "      <td>520.0</td>\n",
       "    </tr>\n",
       "    <tr>\n",
       "      <th>Building_Type</th>\n",
       "      <td>1</td>\n",
       "      <td>1</td>\n",
       "      <td>1</td>\n",
       "      <td>1</td>\n",
       "      <td>1</td>\n",
       "      <td>1</td>\n",
       "      <td>1</td>\n",
       "      <td>1</td>\n",
       "      <td>1</td>\n",
       "      <td>1</td>\n",
       "    </tr>\n",
       "    <tr>\n",
       "      <th>Date_of_Occupancy</th>\n",
       "      <td>1960.0</td>\n",
       "      <td>1850.0</td>\n",
       "      <td>1960.0</td>\n",
       "      <td>1960.0</td>\n",
       "      <td>1800.0</td>\n",
       "      <td>1980.0</td>\n",
       "      <td>1988.0</td>\n",
       "      <td>1988.0</td>\n",
       "      <td>2013.0</td>\n",
       "      <td>2011.0</td>\n",
       "    </tr>\n",
       "    <tr>\n",
       "      <th>NumberOfWindows</th>\n",
       "      <td>.</td>\n",
       "      <td>4</td>\n",
       "      <td>.</td>\n",
       "      <td>.</td>\n",
       "      <td>3</td>\n",
       "      <td>3</td>\n",
       "      <td>.</td>\n",
       "      <td>.</td>\n",
       "      <td>3</td>\n",
       "      <td>2</td>\n",
       "    </tr>\n",
       "    <tr>\n",
       "      <th>Geo_Code</th>\n",
       "      <td>1053</td>\n",
       "      <td>1053</td>\n",
       "      <td>1053</td>\n",
       "      <td>1053</td>\n",
       "      <td>1053</td>\n",
       "      <td>1143</td>\n",
       "      <td>1143</td>\n",
       "      <td>1160</td>\n",
       "      <td>1173</td>\n",
       "      <td>1224</td>\n",
       "    </tr>\n",
       "    <tr>\n",
       "      <th>Claim</th>\n",
       "      <td>0</td>\n",
       "      <td>0</td>\n",
       "      <td>0</td>\n",
       "      <td>0</td>\n",
       "      <td>0</td>\n",
       "      <td>0</td>\n",
       "      <td>0</td>\n",
       "      <td>0</td>\n",
       "      <td>1</td>\n",
       "      <td>0</td>\n",
       "    </tr>\n",
       "  </tbody>\n",
       "</table>\n",
       "</div>"
      ],
      "text/plain": [
       "                         0       1       2       3       4       5       6  \\\n",
       "Customer Id         H14663   H2037   H3802   H3834   H5053   H4977   H7390   \n",
       "YearOfObservation     2013    2015    2014    2013    2014    2012    2012   \n",
       "Insured_Period         1.0     1.0     1.0     1.0     1.0     1.0     1.0   \n",
       "Residential              0       0       0       0       0       0       0   \n",
       "Building_Painted         N       V       N       V       V       V       N   \n",
       "Building_Fenced          V       N       V       V       N       N       V   \n",
       "Garden                   V       O       V       V       O       O       V   \n",
       "Settlement               U       R       U       U       R       R       U   \n",
       "Building Dimension   290.0   490.0   595.0  2840.0   680.0   535.0  2830.0   \n",
       "Building_Type            1       1       1       1       1       1       1   \n",
       "Date_of_Occupancy   1960.0  1850.0  1960.0  1960.0  1800.0  1980.0  1988.0   \n",
       "NumberOfWindows          .       4       .       .       3       3       .   \n",
       "Geo_Code              1053    1053    1053    1053    1053    1143    1143   \n",
       "Claim                    0       0       0       0       0       0       0   \n",
       "\n",
       "                         7       8       9  \n",
       "Customer Id         H14488  H19355  H18601  \n",
       "YearOfObservation     2015    2014    2015  \n",
       "Insured_Period         1.0     1.0     1.0  \n",
       "Residential              0       0       0  \n",
       "Building_Painted         N       V       V  \n",
       "Building_Fenced          V       N       N  \n",
       "Garden                   V       O       O  \n",
       "Settlement               U       R       R  \n",
       "Building Dimension  4952.0  2735.0   520.0  \n",
       "Building_Type            1       1       1  \n",
       "Date_of_Occupancy   1988.0  2013.0  2011.0  \n",
       "NumberOfWindows          .       3       2  \n",
       "Geo_Code              1160    1173    1224  \n",
       "Claim                    0       1       0  "
      ]
     },
     "execution_count": 203,
     "metadata": {},
     "output_type": "execute_result"
    }
   ],
   "source": [
    "# view of the first 10 rows of our dataset\n",
    "print(f\"The first 10 rows of our dataset can provide a quick visual overview of the type of variables each attribute contains \\nas indicated in the variable description above. These could be numerical, categorical, ordinal, etc\")\n",
    "print()\n",
    "df.head(10).transpose()"
   ]
  },
  {
   "cell_type": "code",
   "execution_count": 204,
   "id": "f7ccd87f",
   "metadata": {},
   "outputs": [
    {
     "name": "stdout",
     "output_type": "stream",
     "text": [
      "<class 'pandas.core.frame.DataFrame'>\n",
      "RangeIndex: 7160 entries, 0 to 7159\n",
      "Data columns (total 14 columns):\n",
      " #   Column              Non-Null Count  Dtype  \n",
      "---  ------              --------------  -----  \n",
      " 0   Customer Id         7160 non-null   object \n",
      " 1   YearOfObservation   7160 non-null   int64  \n",
      " 2   Insured_Period      7160 non-null   float64\n",
      " 3   Residential         7160 non-null   int64  \n",
      " 4   Building_Painted    7160 non-null   object \n",
      " 5   Building_Fenced     7160 non-null   object \n",
      " 6   Garden              7153 non-null   object \n",
      " 7   Settlement          7160 non-null   object \n",
      " 8   Building Dimension  7054 non-null   float64\n",
      " 9   Building_Type       7160 non-null   int64  \n",
      " 10  Date_of_Occupancy   6652 non-null   float64\n",
      " 11  NumberOfWindows     7160 non-null   object \n",
      " 12  Geo_Code            7058 non-null   object \n",
      " 13  Claim               7160 non-null   int64  \n",
      "dtypes: float64(3), int64(4), object(7)\n",
      "memory usage: 783.2+ KB\n"
     ]
    }
   ],
   "source": [
    "# the type of variables can be confirmed by checking the column types. \n",
    "# this also helps to determine if the column types rightfully align with what has been outlined in the variable description\n",
    "df.info()"
   ]
  },
  {
   "cell_type": "markdown",
   "id": "da25ad1c",
   "metadata": {},
   "source": [
    "Carefully considering the different types of columns in the dataset. The first thing to understand is the type of information under each feature and any unique values present. This would show a somewhat detail of the composition of the data points under each variable. This would eventually be visually shown for easier understanding and readability.\n",
    "\n",
    "The dataset information showed that a number of the columns are recognised as objects, floats, and integers. \n",
    "\n",
    "However, according to the variable description, the dataset contains dates (YearOfObservation and Date_of_Occupancy), categorical(Residential, Building_Painted, Building_Fenced, Garden, Settlement, Building_Type, NumberOfWindows, Geo_Code, Claim), and numerical (Insured_Period, Building Dimension) attributes.\n",
    "\n",
    "The dates columns could be used either as categorical or date columns depending on the use case of our analysis and modeling. \n",
    "\n",
    "To convert the object type columns to columns, we would need to understand the reasoning behind doing so. \n",
    "\n",
    "* The 'object' data type is a general-purpose type for text or mixed data.\n",
    "\n",
    "* The 'categorical' data type is optimized for columns with a limited set of unique values, offering better memory efficiency and performance for certain operations.\n",
    "\n",
    "Thus, several of the object type columns are to be converted to categorical type variables. This however will be confirmed after viewing the unique values present under each object data type."
   ]
  },
  {
   "cell_type": "code",
   "execution_count": 205,
   "id": "6d8c4459",
   "metadata": {},
   "outputs": [],
   "source": [
    "# function to extract the categorical and numerical attributes to group them for further analysis\n",
    "def extract_cat_num(data):\n",
    "    categorical_col = [col for col in df.columns if df[col].dtype == 'object']\n",
    "    numerical_col = [col for col in df.columns if df[col].dtype == 'float64']\n",
    "    return categorical_col,numerical_col\n",
    "\n",
    "categorical_col, numerical_col = extract_cat_num(df)"
   ]
  },
  {
   "cell_type": "code",
   "execution_count": 206,
   "id": "26027b44",
   "metadata": {
    "scrolled": true
   },
   "outputs": [
    {
     "data": {
      "text/plain": [
       "['Customer Id',\n",
       " 'Building_Painted',\n",
       " 'Building_Fenced',\n",
       " 'Garden',\n",
       " 'Settlement',\n",
       " 'NumberOfWindows',\n",
       " 'Geo_Code']"
      ]
     },
     "execution_count": 206,
     "metadata": {},
     "output_type": "execute_result"
    }
   ],
   "source": [
    "# categorical attributes extracted from the dataframe\n",
    "categorical_col"
   ]
  },
  {
   "cell_type": "code",
   "execution_count": 207,
   "id": "57237a95",
   "metadata": {},
   "outputs": [
    {
     "name": "stdout",
     "output_type": "stream",
     "text": [
      "\n",
      "Unique Values in Customer Id has\n",
      "H14663    1\n",
      "H19182    1\n",
      "H1571     1\n",
      "H15027    1\n",
      "H15026    1\n",
      "         ..\n",
      "H5025     1\n",
      "H19098    1\n",
      "H16571    1\n",
      "H16570    1\n",
      "H7470     1\n",
      "Name: Customer Id, Length: 7160, dtype: int64 \n",
      "\n",
      "\n",
      "\n",
      "Unique Values in Building_Painted has\n",
      "V    5382\n",
      "N    1778\n",
      "Name: Building_Painted, dtype: int64 \n",
      "\n",
      "\n",
      "\n",
      "Unique Values in Building_Fenced has\n",
      "N    3608\n",
      "V    3552\n",
      "Name: Building_Fenced, dtype: int64 \n",
      "\n",
      "\n",
      "\n",
      "Unique Values in Garden has\n",
      "O    3602\n",
      "V    3551\n",
      "Name: Garden, dtype: int64 \n",
      "\n",
      "\n",
      "\n",
      "Unique Values in Settlement has\n",
      "R    3610\n",
      "U    3550\n",
      "Name: Settlement, dtype: int64 \n",
      "\n",
      "\n",
      "\n",
      "Unique Values in NumberOfWindows has\n",
      "   .    3551\n",
      "4        939\n",
      "3        844\n",
      "5        639\n",
      "2        363\n",
      "6        306\n",
      "7        211\n",
      "8        116\n",
      "1         75\n",
      ">=10      67\n",
      "9         49\n",
      "Name: NumberOfWindows, dtype: int64 \n",
      "\n",
      "\n",
      "\n",
      "Unique Values in Geo_Code has\n",
      "6088     143\n",
      "33063    137\n",
      "6083     113\n",
      "13206     98\n",
      "31555     87\n",
      "        ... \n",
      "59650      1\n",
      "59656      1\n",
      "60057      1\n",
      "60172      1\n",
      "2B353      1\n",
      "Name: Geo_Code, Length: 1307, dtype: int64 \n",
      "\n",
      "\n"
     ]
    }
   ],
   "source": [
    "# to determine the unique values under each categorical attribute, which can help determine if there are any anomalies\n",
    "for col in categorical_col:\n",
    "    print('\\nUnique Values in {} has\\n{} '.format(col,df[col].value_counts()))\n",
    "    print('\\n')"
   ]
  },
  {
   "cell_type": "code",
   "execution_count": 208,
   "id": "bcffb2f1",
   "metadata": {},
   "outputs": [
    {
     "data": {
      "text/plain": [
       "['Insured_Period', 'Building Dimension', 'Date_of_Occupancy']"
      ]
     },
     "execution_count": 208,
     "metadata": {},
     "output_type": "execute_result"
    }
   ],
   "source": [
    "numerical_col"
   ]
  },
  {
   "cell_type": "markdown",
   "id": "eaf93583",
   "metadata": {},
   "source": [
    "Observations:\n",
    "\n",
    "* The Customer Id column is a unique attribute.\n",
    "* The unique values in NumberOfWindows show a category of 1 to greater and equal to 10 for each building - however, it also includes 3551 rows that have a period symbol representing the number of windows. This brings to question if this is considered a missing value or  a building with no (0) windows. Requires further investigation.\n",
    "* The YearOfObservation, Residential, Building_Type, Date_of_Occupancy and Claim columns have been wrongly recognised as numerical columns and require conversion.\n",
    "* The Claim attribute is our target. Which is a categorical column. \n",
    "* The dates columns (YearOfObservation and Date_of_Occupancy) could be used either as categorical or date columns depending on the use case of our analysis and modeling. At this point they will be considered categorical.\n",
    "\n",
    "To convert the object type columns to columns, we would need to understand the reasoning behind doing so. \n",
    "\n",
    "1. The 'object' data type is a general-purpose type for text or mixed data.\n",
    "\n",
    "2. The 'categorical' data type is optimized for columns with a limited set of unique values, offering better memory efficiency and performance for certain operations.\n",
    "\n",
    "Thus, several of the object type columns are to be converted to categorical type variables."
   ]
  },
  {
   "cell_type": "code",
   "execution_count": 209,
   "id": "d5c93e65",
   "metadata": {},
   "outputs": [
    {
     "data": {
      "text/html": [
       "<div>\n",
       "<style scoped>\n",
       "    .dataframe tbody tr th:only-of-type {\n",
       "        vertical-align: middle;\n",
       "    }\n",
       "\n",
       "    .dataframe tbody tr th {\n",
       "        vertical-align: top;\n",
       "    }\n",
       "\n",
       "    .dataframe thead th {\n",
       "        text-align: right;\n",
       "    }\n",
       "</style>\n",
       "<table border=\"1\" class=\"dataframe\">\n",
       "  <thead>\n",
       "    <tr style=\"text-align: right;\">\n",
       "      <th></th>\n",
       "      <th>0</th>\n",
       "      <th>1</th>\n",
       "      <th>2</th>\n",
       "      <th>3</th>\n",
       "      <th>4</th>\n",
       "      <th>5</th>\n",
       "      <th>6</th>\n",
       "      <th>7</th>\n",
       "      <th>8</th>\n",
       "      <th>9</th>\n",
       "    </tr>\n",
       "  </thead>\n",
       "  <tbody>\n",
       "    <tr>\n",
       "      <th>Customer Id</th>\n",
       "      <td>H14663</td>\n",
       "      <td>H2037</td>\n",
       "      <td>H3802</td>\n",
       "      <td>H3834</td>\n",
       "      <td>H5053</td>\n",
       "      <td>H4977</td>\n",
       "      <td>H7390</td>\n",
       "      <td>H14488</td>\n",
       "      <td>H19355</td>\n",
       "      <td>H18601</td>\n",
       "    </tr>\n",
       "    <tr>\n",
       "      <th>YearOfObservation</th>\n",
       "      <td>2013</td>\n",
       "      <td>2015</td>\n",
       "      <td>2014</td>\n",
       "      <td>2013</td>\n",
       "      <td>2014</td>\n",
       "      <td>2012</td>\n",
       "      <td>2012</td>\n",
       "      <td>2015</td>\n",
       "      <td>2014</td>\n",
       "      <td>2015</td>\n",
       "    </tr>\n",
       "    <tr>\n",
       "      <th>Insured_Period</th>\n",
       "      <td>1.0</td>\n",
       "      <td>1.0</td>\n",
       "      <td>1.0</td>\n",
       "      <td>1.0</td>\n",
       "      <td>1.0</td>\n",
       "      <td>1.0</td>\n",
       "      <td>1.0</td>\n",
       "      <td>1.0</td>\n",
       "      <td>1.0</td>\n",
       "      <td>1.0</td>\n",
       "    </tr>\n",
       "    <tr>\n",
       "      <th>Residential</th>\n",
       "      <td>0</td>\n",
       "      <td>0</td>\n",
       "      <td>0</td>\n",
       "      <td>0</td>\n",
       "      <td>0</td>\n",
       "      <td>0</td>\n",
       "      <td>0</td>\n",
       "      <td>0</td>\n",
       "      <td>0</td>\n",
       "      <td>0</td>\n",
       "    </tr>\n",
       "    <tr>\n",
       "      <th>Building_Painted</th>\n",
       "      <td>N</td>\n",
       "      <td>V</td>\n",
       "      <td>N</td>\n",
       "      <td>V</td>\n",
       "      <td>V</td>\n",
       "      <td>V</td>\n",
       "      <td>N</td>\n",
       "      <td>N</td>\n",
       "      <td>V</td>\n",
       "      <td>V</td>\n",
       "    </tr>\n",
       "    <tr>\n",
       "      <th>Building_Fenced</th>\n",
       "      <td>V</td>\n",
       "      <td>N</td>\n",
       "      <td>V</td>\n",
       "      <td>V</td>\n",
       "      <td>N</td>\n",
       "      <td>N</td>\n",
       "      <td>V</td>\n",
       "      <td>V</td>\n",
       "      <td>N</td>\n",
       "      <td>N</td>\n",
       "    </tr>\n",
       "    <tr>\n",
       "      <th>Garden</th>\n",
       "      <td>V</td>\n",
       "      <td>O</td>\n",
       "      <td>V</td>\n",
       "      <td>V</td>\n",
       "      <td>O</td>\n",
       "      <td>O</td>\n",
       "      <td>V</td>\n",
       "      <td>V</td>\n",
       "      <td>O</td>\n",
       "      <td>O</td>\n",
       "    </tr>\n",
       "    <tr>\n",
       "      <th>Settlement</th>\n",
       "      <td>U</td>\n",
       "      <td>R</td>\n",
       "      <td>U</td>\n",
       "      <td>U</td>\n",
       "      <td>R</td>\n",
       "      <td>R</td>\n",
       "      <td>U</td>\n",
       "      <td>U</td>\n",
       "      <td>R</td>\n",
       "      <td>R</td>\n",
       "    </tr>\n",
       "    <tr>\n",
       "      <th>Building Dimension</th>\n",
       "      <td>290.0</td>\n",
       "      <td>490.0</td>\n",
       "      <td>595.0</td>\n",
       "      <td>2840.0</td>\n",
       "      <td>680.0</td>\n",
       "      <td>535.0</td>\n",
       "      <td>2830.0</td>\n",
       "      <td>4952.0</td>\n",
       "      <td>2735.0</td>\n",
       "      <td>520.0</td>\n",
       "    </tr>\n",
       "    <tr>\n",
       "      <th>Building_Type</th>\n",
       "      <td>1</td>\n",
       "      <td>1</td>\n",
       "      <td>1</td>\n",
       "      <td>1</td>\n",
       "      <td>1</td>\n",
       "      <td>1</td>\n",
       "      <td>1</td>\n",
       "      <td>1</td>\n",
       "      <td>1</td>\n",
       "      <td>1</td>\n",
       "    </tr>\n",
       "    <tr>\n",
       "      <th>Date_of_Occupancy</th>\n",
       "      <td>1960</td>\n",
       "      <td>1850</td>\n",
       "      <td>1960</td>\n",
       "      <td>1960</td>\n",
       "      <td>1800</td>\n",
       "      <td>1980</td>\n",
       "      <td>1988</td>\n",
       "      <td>1988</td>\n",
       "      <td>2013</td>\n",
       "      <td>2011</td>\n",
       "    </tr>\n",
       "    <tr>\n",
       "      <th>NumberOfWindows</th>\n",
       "      <td>.</td>\n",
       "      <td>4</td>\n",
       "      <td>.</td>\n",
       "      <td>.</td>\n",
       "      <td>3</td>\n",
       "      <td>3</td>\n",
       "      <td>.</td>\n",
       "      <td>.</td>\n",
       "      <td>3</td>\n",
       "      <td>2</td>\n",
       "    </tr>\n",
       "    <tr>\n",
       "      <th>Geo_Code</th>\n",
       "      <td>1053</td>\n",
       "      <td>1053</td>\n",
       "      <td>1053</td>\n",
       "      <td>1053</td>\n",
       "      <td>1053</td>\n",
       "      <td>1143</td>\n",
       "      <td>1143</td>\n",
       "      <td>1160</td>\n",
       "      <td>1173</td>\n",
       "      <td>1224</td>\n",
       "    </tr>\n",
       "    <tr>\n",
       "      <th>Claim</th>\n",
       "      <td>0</td>\n",
       "      <td>0</td>\n",
       "      <td>0</td>\n",
       "      <td>0</td>\n",
       "      <td>0</td>\n",
       "      <td>0</td>\n",
       "      <td>0</td>\n",
       "      <td>0</td>\n",
       "      <td>1</td>\n",
       "      <td>0</td>\n",
       "    </tr>\n",
       "  </tbody>\n",
       "</table>\n",
       "</div>"
      ],
      "text/plain": [
       "                         0      1      2       3      4      5       6  \\\n",
       "Customer Id         H14663  H2037  H3802   H3834  H5053  H4977   H7390   \n",
       "YearOfObservation     2013   2015   2014    2013   2014   2012    2012   \n",
       "Insured_Period         1.0    1.0    1.0     1.0    1.0    1.0     1.0   \n",
       "Residential              0      0      0       0      0      0       0   \n",
       "Building_Painted         N      V      N       V      V      V       N   \n",
       "Building_Fenced          V      N      V       V      N      N       V   \n",
       "Garden                   V      O      V       V      O      O       V   \n",
       "Settlement               U      R      U       U      R      R       U   \n",
       "Building Dimension   290.0  490.0  595.0  2840.0  680.0  535.0  2830.0   \n",
       "Building_Type            1      1      1       1      1      1       1   \n",
       "Date_of_Occupancy     1960   1850   1960    1960   1800   1980    1988   \n",
       "NumberOfWindows          .      4      .       .      3      3       .   \n",
       "Geo_Code              1053   1053   1053    1053   1053   1143    1143   \n",
       "Claim                    0      0      0       0      0      0       0   \n",
       "\n",
       "                         7       8       9  \n",
       "Customer Id         H14488  H19355  H18601  \n",
       "YearOfObservation     2015    2014    2015  \n",
       "Insured_Period         1.0     1.0     1.0  \n",
       "Residential              0       0       0  \n",
       "Building_Painted         N       V       V  \n",
       "Building_Fenced          V       N       N  \n",
       "Garden                   V       O       O  \n",
       "Settlement               U       R       R  \n",
       "Building Dimension  4952.0  2735.0   520.0  \n",
       "Building_Type            1       1       1  \n",
       "Date_of_Occupancy     1988    2013    2011  \n",
       "NumberOfWindows          .       3       2  \n",
       "Geo_Code              1160    1173    1224  \n",
       "Claim                    0       1       0  "
      ]
     },
     "execution_count": 209,
     "metadata": {},
     "output_type": "execute_result"
    }
   ],
   "source": [
    "# changing of column types\n",
    "# first, the Date_of_Occupancy column has float values\n",
    "# which we first convert to integer to get rid of the decimal before converting to categorical\n",
    "df['Date_of_Occupancy'] = pd.to_numeric(df['Date_of_Occupancy'], errors='coerce').astype('Int64')\n",
    "df.head(10).transpose()"
   ]
  },
  {
   "cell_type": "code",
   "execution_count": 210,
   "id": "0fa5083d",
   "metadata": {},
   "outputs": [
    {
     "name": "stdout",
     "output_type": "stream",
     "text": [
      "<class 'pandas.core.frame.DataFrame'>\n",
      "RangeIndex: 7160 entries, 0 to 7159\n",
      "Data columns (total 14 columns):\n",
      " #   Column              Non-Null Count  Dtype  \n",
      "---  ------              --------------  -----  \n",
      " 0   Customer Id         7160 non-null   object \n",
      " 1   YearOfObservation   7160 non-null   int64  \n",
      " 2   Insured_Period      7160 non-null   float64\n",
      " 3   Residential         7160 non-null   int64  \n",
      " 4   Building_Painted    7160 non-null   object \n",
      " 5   Building_Fenced     7160 non-null   object \n",
      " 6   Garden              7153 non-null   object \n",
      " 7   Settlement          7160 non-null   object \n",
      " 8   Building Dimension  7054 non-null   float64\n",
      " 9   Building_Type       7160 non-null   int64  \n",
      " 10  Date_of_Occupancy   6652 non-null   Int64  \n",
      " 11  NumberOfWindows     7160 non-null   object \n",
      " 12  Geo_Code            7058 non-null   object \n",
      " 13  Claim               7160 non-null   int64  \n",
      "dtypes: Int64(1), float64(2), int64(4), object(7)\n",
      "memory usage: 790.2+ KB\n"
     ]
    }
   ],
   "source": [
    "df.info()"
   ]
  },
  {
   "cell_type": "code",
   "execution_count": 211,
   "id": "17cb470b",
   "metadata": {},
   "outputs": [
    {
     "name": "stdout",
     "output_type": "stream",
     "text": [
      "<class 'pandas.core.frame.DataFrame'>\n",
      "RangeIndex: 7160 entries, 0 to 7159\n",
      "Data columns (total 14 columns):\n",
      " #   Column              Non-Null Count  Dtype   \n",
      "---  ------              --------------  -----   \n",
      " 0   Customer Id         7160 non-null   object  \n",
      " 1   YearOfObservation   7160 non-null   category\n",
      " 2   Insured_Period      7160 non-null   float64 \n",
      " 3   Residential         7160 non-null   category\n",
      " 4   Building_Painted    7160 non-null   category\n",
      " 5   Building_Fenced     7160 non-null   category\n",
      " 6   Garden              7153 non-null   category\n",
      " 7   Settlement          7160 non-null   category\n",
      " 8   Building Dimension  7054 non-null   float64 \n",
      " 9   Building_Type       7160 non-null   category\n",
      " 10  Date_of_Occupancy   6652 non-null   category\n",
      " 11  NumberOfWindows     7160 non-null   category\n",
      " 12  Geo_Code            7058 non-null   category\n",
      " 13  Claim               7160 non-null   category\n",
      "dtypes: category(11), float64(2), object(1)\n",
      "memory usage: 308.1+ KB\n"
     ]
    }
   ],
   "source": [
    "# list of columns to convert to categorical\n",
    "columns_to_convert = [\n",
    "    'YearOfObservation', 'Residential', 'Building_Painted', 'Building_Fenced', 'Garden', \n",
    "    'Settlement', 'Building_Type','NumberOfWindows', 'Date_of_Occupancy', 'Geo_Code', 'Claim'\n",
    "]\n",
    "\n",
    "# convert the specified columns to categorical\n",
    "df[columns_to_convert] = df[columns_to_convert].astype('category')\n",
    "df.info()"
   ]
  },
  {
   "cell_type": "code",
   "execution_count": 212,
   "id": "848861fa",
   "metadata": {},
   "outputs": [
    {
     "name": "stdout",
     "output_type": "stream",
     "text": [
      "\n",
      "Unique Values in Claim has\n",
      "0    5526\n",
      "1    1634\n",
      "Name: Claim, dtype: int64 \n",
      "\n",
      "\n"
     ]
    }
   ],
   "source": [
    "# determining the unique values contained within our target attribute Claim\n",
    "print('\\nUnique Values in {} has\\n{} '.format('Claim',df['Claim'].value_counts()))\n",
    "print('\\n')"
   ]
  },
  {
   "cell_type": "markdown",
   "id": "6f9d8a8d",
   "metadata": {},
   "source": [
    "Our target variable 'Claim' has been observed to be imbalanced, with 5,526 observations indicating that the building has at least a claim over the insured period and 1,634 of the observations indicating that the building doesn’t have a claim over the insured period."
   ]
  },
  {
   "cell_type": "markdown",
   "id": "c97b180e",
   "metadata": {},
   "source": [
    "After conversion, it is also clear from the count that there exists missing values based on the total expected rows and the count of non-null rows in the information displayed above. The missing values can be further analysed to understand the extent at which they occur. \n",
    "\n",
    "The potentially missing values in NumberOfWindows has to also be explored, to understand what the symbol may be trying to represent. To do this, we begin to visualise the relationships between the variables."
   ]
  },
  {
   "cell_type": "code",
   "execution_count": 158,
   "id": "3a8f61be",
   "metadata": {},
   "outputs": [
    {
     "data": {
      "image/png": "[encoded data removed]",
      "text/plain": [
       "<Figure size 400x400 with 1 Axes>"
      ]
     },
     "metadata": {
      "needs_background": "light"
     },
     "output_type": "display_data"
    }
   ],
   "source": [
    "# visualising the distribution of buildings in residential (1) and non-residential (0) areas and the number of windows each building has\n",
    "plt.figure(figsize=(4, 4), dpi=100)\n",
    "sns.countplot(x='NumberOfWindows',hue=\"Residential\", data=df)\n",
    "plt.show()"
   ]
  },
  {
   "cell_type": "markdown",
   "id": "f5f202c2",
   "metadata": {},
   "source": [
    "According to the visualisation, a large number of buildings with an unknown number of windows are found in non-residential areas. The second largest number are buildings found in residential areas. Non-residential areas are zones designated for purposes other than living or dwelling and contain structures that utilise space in a manner that does not require or have the need for the same infrastructure found in residential builds. Non-residential areas include:\n",
    "\n",
    "- Commercial:Office buildings, shopping malls, retail stores, restaurants, and hotels.\n",
    "- Industrial: Factories, warehouses, manufacturing plants, and industrial parks.\n",
    "- Institutional: Schools, universities, hospitals, government buildings, and religious institutions.\n",
    "- Recreational: Parks, sports complexes, theaters, and entertainment venues.\n",
    "- Agricultural: Farms, barns, greenhouses, and storage facilities for agricultural products.\n",
    "- Transportation Hubs: Airports, train stations, bus terminals, and parking garages.\n",
    "- Utilities and Infrastructure: Power plants, water treatment facilities, and communication towers.\n",
    "\n",
    "Windowless infrastructure that can also be found in residential areas can also include storage facilities and parking garages. These various structures can be insured to protect against a wide range of potential risks such as property damage. The presence of windows in non-residential buildings depends on the purpose and design of the building."
   ]
  },
  {
   "cell_type": "code",
   "execution_count": 135,
   "id": "c4e5f7e3",
   "metadata": {},
   "outputs": [
    {
     "data": {
      "image/png": "[encoded data removed]",
      "text/plain": [
       "<Figure size 400x400 with 1 Axes>"
      ]
     },
     "metadata": {
      "needs_background": "light"
     },
     "output_type": "display_data"
    }
   ],
   "source": [
    "# visualising the distribution of buildings that are fenced (N) and not fenced (V) areas and the number of windows each building has\n",
    "plt.figure(figsize=(4, 4), dpi=100)\n",
    "sns.countplot(x='NumberOfWindows',hue=\"Building_Fenced\", data=df)\n",
    "plt.show()"
   ]
  },
  {
   "cell_type": "markdown",
   "id": "8e8a344b",
   "metadata": {},
   "source": [
    "The above visualisation indicates that all the buildings with the symbol '.' indicating number of windows are not fenced (V). This could be another indicator that these buildings are those that typically do not have windows such as those found in non-residential areas or commercial buildings and parking garages that can be found in residential areas."
   ]
  },
  {
   "cell_type": "code",
   "execution_count": 136,
   "id": "8015ea7d",
   "metadata": {},
   "outputs": [
    {
     "data": {
      "image/png": "[encoded data removed]",
      "text/plain": [
       "<Figure size 400x400 with 1 Axes>"
      ]
     },
     "metadata": {
      "needs_background": "light"
     },
     "output_type": "display_data"
    }
   ],
   "source": [
    "# visualising the distribution of buildings that are fenced (N) and not fenced (V) areas and the number of windows each building has\n",
    "plt.figure(figsize=(4, 4), dpi=100)\n",
    "sns.countplot(x='NumberOfWindows',hue=\"Garden\", data=df)\n",
    "plt.show()"
   ]
  },
  {
   "cell_type": "markdown",
   "id": "c287d7d2",
   "metadata": {},
   "source": [
    "The above visualisation shows that the buildings with the symbol '.' for the number of windows that a building has do not have a garden and could also indicate industrial infrastructure such as factories, warehouses or parking garages - ruling out that they are not residential. This can still be investigated further."
   ]
  },
  {
   "cell_type": "code",
   "execution_count": 137,
   "id": "0deb36c7",
   "metadata": {},
   "outputs": [
    {
     "data": {
      "image/png": "[encoded data removed]",
      "text/plain": [
       "<Figure size 400x400 with 1 Axes>"
      ]
     },
     "metadata": {
      "needs_background": "light"
     },
     "output_type": "display_data"
    }
   ],
   "source": [
    "# visualising the distribution of buildings that are fenced (N) and not fenced (V) areas and the number of windows each building has\n",
    "plt.figure(figsize=(4, 4), dpi=100)\n",
    "sns.countplot(x='NumberOfWindows',hue=\"Settlement\", data=df)\n",
    "plt.show()"
   ]
  },
  {
   "cell_type": "markdown",
   "id": "9f6c02d9",
   "metadata": {},
   "source": [
    "The above visualisation shows that the settlement at which these buildings with the '.' symbol for the number of windows that a building are located in urban areas. Urban and rural areas differ significantly in terms of population density, land use, infrastructure, and types of buildings. Urban areas have a large population density and are primarily used for residential, commercial, and industrial purposes. This does not confirm nor deny if the buildings have a typical requirement for windows or not, however, they state their specific location of buildings in those locations with an unknown number of windows.\n",
    "\n",
    "The analysis has brought me to the conclusion that these buildings could be considered windowless and thus the symbol '.' representing the Number of windows will be converted to a zero (0) going forward."
   ]
  },
  {
   "cell_type": "code",
   "execution_count": 213,
   "id": "6eec4971",
   "metadata": {},
   "outputs": [
    {
     "name": "stdout",
     "output_type": "stream",
     "text": [
      "\n",
      "Unique Values in NumberOfWindows has\n",
      "0       3551\n",
      "4        939\n",
      "3        844\n",
      "5        639\n",
      "2        363\n",
      "6        306\n",
      "7        211\n",
      "8        116\n",
      "1         75\n",
      ">=10      67\n",
      "9         49\n",
      "Name: NumberOfWindows, dtype: int64 \n",
      "\n",
      "\n"
     ]
    }
   ],
   "source": [
    "# now to edit the categorical data of the NumberOfWindows attribute\n",
    "df['NumberOfWindows'].replace(to_replace = {'   .':'0'},inplace=True)\n",
    "# to determine the unique values under each categorical attribute, which can help determine if there are any anomalies\n",
    "print('\\nUnique Values in {} has\\n{} '.format('NumberOfWindows',df['NumberOfWindows'].value_counts()))\n",
    "print('\\n')"
   ]
  },
  {
   "cell_type": "markdown",
   "id": "7d0ff406",
   "metadata": {},
   "source": [
    "Now we can look at any missing values that could be found in the other attributes within our dataset."
   ]
  },
  {
   "cell_type": "code",
   "execution_count": 214,
   "id": "c476a9b0",
   "metadata": {},
   "outputs": [
    {
     "data": {
      "text/plain": [
       "Customer Id           0.00\n",
       "YearOfObservation     0.00\n",
       "Insured_Period        0.00\n",
       "Residential           0.00\n",
       "Building_Painted      0.00\n",
       "Building_Fenced       0.00\n",
       "Garden                0.10\n",
       "Settlement            0.00\n",
       "Building Dimension    1.48\n",
       "Building_Type         0.00\n",
       "Date_of_Occupancy     7.09\n",
       "NumberOfWindows       0.00\n",
       "Geo_Code              1.42\n",
       "Claim                 0.00\n",
       "dtype: float64"
      ]
     },
     "execution_count": 214,
     "metadata": {},
     "output_type": "execute_result"
    }
   ],
   "source": [
    "# Visualizing the missing data using a matrix display image\n",
    "# Percentage of missing data per column\n",
    "(df.isnull().sum() / df.shape[0] * 100.00).round(2)"
   ]
  },
  {
   "cell_type": "code",
   "execution_count": 215,
   "id": "b22c0e7e",
   "metadata": {},
   "outputs": [
    {
     "data": {
      "text/plain": [
       "Customer Id             0\n",
       "YearOfObservation       0\n",
       "Insured_Period          0\n",
       "Residential             0\n",
       "Building_Painted        0\n",
       "Building_Fenced         0\n",
       "Garden                  7\n",
       "Settlement              0\n",
       "Building Dimension    106\n",
       "Building_Type           0\n",
       "Date_of_Occupancy     508\n",
       "NumberOfWindows         0\n",
       "Geo_Code              102\n",
       "Claim                   0\n",
       "dtype: int64"
      ]
     },
     "execution_count": 215,
     "metadata": {},
     "output_type": "execute_result"
    }
   ],
   "source": [
    "df.isnull().sum()"
   ]
  },
  {
   "cell_type": "markdown",
   "id": "3b0b5f61",
   "metadata": {},
   "source": [
    "At most, less than 10% of the values within the dataset - specifically within the Date_of_Occupancy attribute are missing. Depending on the extent at which there are missing values, they can be dealt with in the following ways:\n",
    "\n",
    "* All the rows with missing data can be eliminated\n",
    "* All the columns with a lot of missing data can be eliminated\n",
    "* Missing data can be imputated\n",
    "\n",
    "Imputation of missing data can be performed by replacing replacing the values with the mean, median or mode, or using k-nearest neighbour to replace the data values with similar computed values based on similarity and nearness.\n",
    "\n",
    "Regarding our current dataset, the missing values are imputated using the mean and mode."
   ]
  },
  {
   "cell_type": "code",
   "execution_count": 216,
   "id": "9884f1ac",
   "metadata": {},
   "outputs": [
    {
     "data": {
      "text/plain": [
       "Customer Id           0.0\n",
       "YearOfObservation     0.0\n",
       "Insured_Period        0.0\n",
       "Residential           0.0\n",
       "Building_Painted      0.0\n",
       "Building_Fenced       0.0\n",
       "Garden                0.0\n",
       "Settlement            0.0\n",
       "Building Dimension    0.0\n",
       "Building_Type         0.0\n",
       "Date_of_Occupancy     0.0\n",
       "NumberOfWindows       0.0\n",
       "Geo_Code              0.0\n",
       "Claim                 0.0\n",
       "dtype: float64"
      ]
     },
     "execution_count": 216,
     "metadata": {},
     "output_type": "execute_result"
    }
   ],
   "source": [
    "# fill missing values with mode\n",
    "df['Garden'].fillna(df['Garden'].mode()[0],inplace=True)\n",
    "df['Date_of_Occupancy'].fillna(df['Date_of_Occupancy'].mode()[0],inplace=True)\n",
    "df['Geo_Code'].fillna(df['Geo_Code'].mode()[0],inplace=True)\n",
    "\n",
    "# fill missing values with mean\n",
    "df['Building Dimension'].fillna(df['Building Dimension'].mean(),inplace=True)\n",
    "\n",
    "# verify that there are no missing values\n",
    "(df.isnull().sum() / df.shape[0] * 100.00).round(2)"
   ]
  },
  {
   "cell_type": "markdown",
   "id": "8b83ef57",
   "metadata": {},
   "source": [
    "# FEATURE ENGINEERING"
   ]
  },
  {
   "cell_type": "markdown",
   "id": "164e4da9",
   "metadata": {},
   "source": [
    "Feature engineering occurs after cleaning the dataset and before splitting the data. Feature engineering transforms raw data into meaningful features that improve model performance."
   ]
  },
  {
   "cell_type": "markdown",
   "id": "01e16d73",
   "metadata": {},
   "source": [
    "Now that we have dealt with missing features and converted our data types, we shall now consider if our dataset requires the scaling of numerical features, encoding categorical variables and dimensionality reduction.\n",
    "\n",
    "Our dataset contains a column called Insured_Period. According to the variable description, these values are to represent the duration of insurance policy in Olusola Insurance. (Ex: Full year insurance, Policy Duration = 1; 6 months = 0.5). Further exploration is required to understand this numerical column."
   ]
  },
  {
   "cell_type": "code",
   "execution_count": 218,
   "id": "d23a3028",
   "metadata": {},
   "outputs": [
    {
     "name": "stdout",
     "output_type": "stream",
     "text": [
      "\n",
      "Unique Values in Insured_Period has\n",
      "1.000000    5325\n",
      "0.997268     547\n",
      "0.000000     165\n",
      "0.747945      60\n",
      "0.495890      49\n",
      "            ... \n",
      "0.435616       1\n",
      "0.308743       1\n",
      "0.437158       1\n",
      "0.578082       1\n",
      "0.030137       1\n",
      "Name: Insured_Period, Length: 401, dtype: int64 \n",
      "\n",
      "\n"
     ]
    }
   ],
   "source": [
    "print('\\nUnique Values in {} has\\n{} '.format('Insured_Period',df['Insured_Period'].value_counts()))\n",
    "print('\\n')"
   ]
  },
  {
   "cell_type": "markdown",
   "id": "4fd0b7a9",
   "metadata": {},
   "source": [
    "The values above show that the column Insured_Period has values ranging from 0.0 to 1.0, which slightly opposes the initial understanding of the description outlined of our attribute in terms of expected values to indicate that an insured period of 1 year is represented by the value 1 and 6 months is represented by the value 0.5. However, this does align with the intention of the attribute. It is thus understood that the value of 0.0 indicates that the insured period is 0 months, 0.5 would indicate that the insured period is 6 months (half a year or 0.5 year) and 1.0 indicates that the insured period is 12 months (1 full year of insurance or coverage). The values in between 0.0 and 1.0 indicate varying lengths of insured period within a 12-month (full year) period. This attribute shall remain a numerical value.\n",
    "\n",
    "The Building Dimension attribute is a column that indicates the area of the building in meters squared. This value is numerical, and shall remain so.\n",
    "\n",
    "The difference in scale between these values require normalization/standarization. The reason for applying scaling/normalization is because:\n",
    "\n",
    "1. Many machine learning algorithms are sensitive to the scale of the input features. Features with larger values can dominate the model, leading to biased results. Scaling ensures that all features contribute equally to the model.\n",
    "2. Scaling can improve the convergence speed and stability of some algorithms, especially gradient-based methods like linear regression, logistic regression, and neural networks.  These algorithms often converge faster when the features are on a similar scale.\n",
    "3. If one feature has a much larger range of values than others, it can overshadow the importance of other features. Scaling prevents this dominance.\n"
   ]
  },
  {
   "cell_type": "markdown",
   "id": "f926d034",
   "metadata": {},
   "source": [
    "Our feature engineering shall include the following steps:\n",
    "\n",
    "1. First we drop the Customer Id column, as it contains unique values.\n",
    "2. We then encode the categorical variables using one-hot encoding.\n",
    "3. Scale the numerical features:to fit within the same range of 0-1.\n",
    "4. We split the data into test and train sets\n",
    "5. Then we perform feature selection using a filter method."
   ]
  },
  {
   "cell_type": "code",
   "execution_count": 221,
   "id": "539f0210",
   "metadata": {},
   "outputs": [
    {
     "name": "stdout",
     "output_type": "stream",
     "text": [
      "<class 'pandas.core.frame.DataFrame'>\n",
      "RangeIndex: 7160 entries, 0 to 7159\n",
      "Data columns (total 14 columns):\n",
      " #   Column              Non-Null Count  Dtype   \n",
      "---  ------              --------------  -----   \n",
      " 0   Customer Id         7160 non-null   object  \n",
      " 1   YearOfObservation   7160 non-null   category\n",
      " 2   Insured_Period      7160 non-null   float64 \n",
      " 3   Residential         7160 non-null   category\n",
      " 4   Building_Painted    7160 non-null   category\n",
      " 5   Building_Fenced     7160 non-null   category\n",
      " 6   Garden              7160 non-null   category\n",
      " 7   Settlement          7160 non-null   category\n",
      " 8   Building Dimension  7160 non-null   float64 \n",
      " 9   Building_Type       7160 non-null   category\n",
      " 10  Date_of_Occupancy   7160 non-null   category\n",
      " 11  NumberOfWindows     7160 non-null   category\n",
      " 12  Geo_Code            7160 non-null   category\n",
      " 13  Claim               7160 non-null   category\n",
      "dtypes: category(11), float64(2), object(1)\n",
      "memory usage: 308.1+ KB\n"
     ]
    }
   ],
   "source": [
    "df.info()"
   ]
  },
  {
   "cell_type": "markdown",
   "id": "d57ce30b",
   "metadata": {},
   "source": [
    "# MODELING"
   ]
  },
  {
   "cell_type": "code",
   "execution_count": 222,
   "id": "efa951b8",
   "metadata": {},
   "outputs": [
    {
     "name": "stdout",
     "output_type": "stream",
     "text": [
      "<class 'pandas.core.frame.DataFrame'>\n",
      "RangeIndex: 7160 entries, 0 to 7159\n",
      "Data columns (total 12 columns):\n",
      " #   Column              Non-Null Count  Dtype   \n",
      "---  ------              --------------  -----   \n",
      " 0   YearOfObservation   7160 non-null   category\n",
      " 1   Insured_Period      7160 non-null   float64 \n",
      " 2   Residential         7160 non-null   category\n",
      " 3   Building_Painted    7160 non-null   category\n",
      " 4   Building_Fenced     7160 non-null   category\n",
      " 5   Garden              7160 non-null   category\n",
      " 6   Settlement          7160 non-null   category\n",
      " 7   Building Dimension  7160 non-null   float64 \n",
      " 8   Building_Type       7160 non-null   category\n",
      " 9   Date_of_Occupancy   7160 non-null   category\n",
      " 10  NumberOfWindows     7160 non-null   category\n",
      " 11  Claim               7160 non-null   category\n",
      "dtypes: category(10), float64(2)\n",
      "memory usage: 195.7 KB\n"
     ]
    }
   ],
   "source": [
    "# Drop Customer Id\n",
    "df2 = df.drop(['Geo_Code','Customer Id'], axis=1)\n",
    "df2.info()"
   ]
  },
  {
   "cell_type": "code",
   "execution_count": 223,
   "id": "2308ffa7",
   "metadata": {},
   "outputs": [
    {
     "name": "stdout",
     "output_type": "stream",
     "text": [
      "<class 'pandas.core.frame.DataFrame'>\n",
      "RangeIndex: 7160 entries, 0 to 7159\n",
      "Data columns (total 12 columns):\n",
      " #   Column              Non-Null Count  Dtype   \n",
      "---  ------              --------------  -----   \n",
      " 0   YearOfObservation   7160 non-null   category\n",
      " 1   Insured_Period      7160 non-null   float64 \n",
      " 2   Residential         7160 non-null   category\n",
      " 3   Building_Painted    7160 non-null   category\n",
      " 4   Building_Fenced     7160 non-null   category\n",
      " 5   Garden              7160 non-null   category\n",
      " 6   Settlement          7160 non-null   category\n",
      " 7   Building Dimension  7160 non-null   float64 \n",
      " 8   Building_Type       7160 non-null   category\n",
      " 9   Date_of_Occupancy   7160 non-null   category\n",
      " 10  NumberOfWindows     7160 non-null   category\n",
      " 11  Claim               7160 non-null   category\n",
      "dtypes: category(10), float64(2)\n",
      "memory usage: 195.7 KB\n"
     ]
    }
   ],
   "source": [
    "df2.info()"
   ]
  },
  {
   "cell_type": "code",
   "execution_count": 224,
   "id": "da7d3236",
   "metadata": {},
   "outputs": [],
   "source": [
    "# separate features (X) and target (y)\n",
    "X = df2.drop('Claim', axis=1)\n",
    "y = df2['Claim']\n",
    "\n",
    "# re-identify categorical and numerical columns\n",
    "categorical_cols = [col for col in X.columns if X[col].dtype == 'category']\n",
    "numerical_cols = [col for col in X.columns if X[col].dtype == 'float64']\n",
    "\n",
    "# one-hot encode the categorical features\n",
    "X_categorical_df = pd.get_dummies(X[categorical_cols], drop_first=True)\n",
    "\n",
    "# scale the numerical features\n",
    "scaler = StandardScaler()\n",
    "X_numerical_scaled = scaler.fit_transform(X[numerical_cols])\n",
    "X_numerical_df = pd.DataFrame(X_numerical_scaled, columns=numerical_cols)\n",
    "\n",
    "# combine the preprocessed features\n",
    "X_processed = pd.concat([X_categorical_df, X_numerical_df], axis=1)\n",
    "\n",
    "# then split into training and testing sets (applied before feature selection)\n",
    "X_train, X_test, y_train, y_test = train_test_split(X_processed, y, test_size=0.3, random_state=42)\n"
   ]
  },
  {
   "cell_type": "code",
   "execution_count": 235,
   "id": "c7aefe2c",
   "metadata": {},
   "outputs": [
    {
     "name": "stdout",
     "output_type": "stream",
     "text": [
      "Train ROC AUC: 0.7348161799644307\n",
      "Test ROC AUC: 0.7008936461647224\n"
     ]
    },
    {
     "data": {
      "image/png": "[encoded data removed]",
      "text/plain": [
       "<Figure size 432x288 with 1 Axes>"
      ]
     },
     "metadata": {
      "needs_background": "light"
     },
     "output_type": "display_data"
    }
   ],
   "source": [
    "# training of our model\n",
    "model = LogisticRegression()\n",
    "model.fit(X_train, y_train)\n",
    "\n",
    "# to get the probabilities for the training set\n",
    "y_train_proba = model.predict_proba(X_train)[:, 1]  # Probabilities for class 1\n",
    "\n",
    "# to also get the probabilities for the test set\n",
    "y_test_proba = model.predict_proba(X_test)[:, 1]  # Probabilities for class 1\n",
    "\n",
    "# to calculate ROC AUC for the training set\n",
    "roc_auc_train = roc_auc_score(y_train, y_train_proba)\n",
    "print(\"Train ROC AUC:\", roc_auc_train)\n",
    "\n",
    "# to also calculate ROC AUC for the test set\n",
    "roc_auc_test = roc_auc_score(y_test, y_test_proba)\n",
    "print(\"Test ROC AUC:\", roc_auc_test)\n",
    "\n",
    "# the plotting of the ROC curve for the training set\n",
    "fpr_train, tpr_train, _ = roc_curve(y_train, y_train_proba)\n",
    "roc_auc_curve_train = auc(fpr_train, tpr_train)\n",
    "\n",
    "plt.figure()\n",
    "plt.plot(fpr_train, tpr_train, color='darkorange', lw=2, label=f'Train ROC curve (area = {roc_auc_curve_train:.2f})')\n",
    "\n",
    "# the plot ROC curve for the test set\n",
    "fpr_test, tpr_test, _ = roc_curve(y_test, y_test_proba)\n",
    "roc_auc_curve_test = auc(fpr_test, tpr_test)\n",
    "\n",
    "plt.plot(fpr_test, tpr_test, color='navy', lw=2, label=f'Test ROC curve (area = {roc_auc_curve_test:.2f})')\n",
    "\n",
    "plt.plot([0, 1], [0, 1], color='gray', lw=2, linestyle='--')  # Random classifier line\n",
    "plt.xlim([0.0, 1.0])\n",
    "plt.ylim([0.0, 1.05])\n",
    "plt.xlabel('False Positive Rate')\n",
    "plt.ylabel('True Positive Rate')\n",
    "plt.title('Receiver Operating Characteristic')\n",
    "plt.legend(loc=\"lower right\")\n",
    "plt.show()"
   ]
  },
  {
   "cell_type": "markdown",
   "id": "bea43c04",
   "metadata": {},
   "source": [
    "An important recall:\n",
    "\n",
    "The target variable is imbalanced, and for an imbalanced dataset, the model created is best evaluated using the ROC (Receiver Operating Characteristic) and AUC (Area Under the Curve). These metrics handle class imbalance better than evaluating the performance of a model using accuracy. These metrics focus on the model's ability to correctly classify both classes, regardless of their imbalance. AUC also particularly measures how well the model ranks positive instances higher than negative instances, which is particularly useful in this instance where we need to evaluate if a building will have an insurance claim during a certain period (1) or not (0).\n",
    "\n",
    "Our model finally results in:\n",
    "Train ROC AUC: 0.73\n",
    "Test ROC AUC: 0.70"
   ]
  },
  {
   "cell_type": "code",
   "execution_count": null,
   "id": "b8ef2f53",
   "metadata": {},
   "outputs": [],
   "source": []
  }
 ],
 "metadata": {
  "kernelspec": {
   "display_name": "Python 3 (ipykernel)",
   "language": "python",
   "name": "python3"
  },
  "language_info": {
   "codemirror_mode": {
    "name": "ipython",
    "version": 3
   },
   "file_extension": ".py",
   "mimetype": "text/x-python",
   "name": "python",
   "nbconvert_exporter": "python",
   "pygments_lexer": "ipython3",
   "version": "3.9.12"
  }
 },
 "nbformat": 4,
 "nbformat_minor": 5
}
